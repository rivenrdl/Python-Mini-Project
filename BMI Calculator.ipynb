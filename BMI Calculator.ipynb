{
 "cells": [
  {
   "cell_type": "markdown",
   "id": "1b72a5a7",
   "metadata": {},
   "source": [
    "## BMI Calculator\n",
    "Resources : https://mercer-health.com/services/weight-management-center/bmi-calculator"
   ]
  },
  {
   "cell_type": "code",
   "execution_count": 10,
   "id": "84992018",
   "metadata": {},
   "outputs": [
    {
     "name": "stdout",
     "output_type": "stream",
     "text": [
      "Enter your name: Riven\n",
      "Enter you weight: 95\n",
      "Enter your height: 170\n",
      "2.310899653979239\n",
      "Rivenyour result is Underweight\n"
     ]
    }
   ],
   "source": [
    "#input name\n",
    "name = input(\"Enter your name: \")\n",
    "\n",
    "#input weight\n",
    "weight = int(input(\"Enter you weight: \"))\n",
    "\n",
    "#input height\n",
    "height = int(input(\"Enter your height: \"))\n",
    "\n",
    "#bmi formula\n",
    "bmi = (weight * 703) / (height * height)\n",
    "\n",
    "#bmi result\n",
    "print(bmi)\n",
    "\n",
    "#condition of based on result\n",
    "if bmi > 0:\n",
    "    if (bmi < 18.5):\n",
    "        print(name +\", your result is Underweight\")\n",
    "    elif (bmi <= 24.9):\n",
    "        print(name + \", your result is Normal Weight\")\n",
    "    elif (bmi <= 29.9):\n",
    "        print(name + \", your result is Overweight\")\n",
    "    elif (bmi <= 34.9):\n",
    "        print(name +\", your result is Obese\")\n",
    "    elif (bmi <= 39.9):\n",
    "        print(name +\", your result is Severely Obese\")\n",
    "    else:\n",
    "        print( name + \", your result is Morbidly Obese\")\n",
    "else : (\"Enter a valid value\")"
   ]
  },
  {
   "cell_type": "markdown",
   "id": "cbd63911",
   "metadata": {},
   "source": [
    "#### BMI Info\n",
    "\n",
    "BMI\tClassification\tHealth Risk\n",
    "Under 18.5\tUnderweight\tMinimal\n",
    "\n",
    "18.5 - 24.9\tNormal Weight\tMinimal\n",
    "\n",
    "25 - 29.9\tOverweight\tIncreased\n",
    "\n",
    "30 - 34.9\tObese\tHigh\n",
    "\n",
    "35 - 39.9\tSeverely Obese\tVery High\n",
    "\n",
    "40 and over\tMorbidly Obese\tExtremely High"
   ]
  },
  {
   "cell_type": "code",
   "execution_count": null,
   "id": "d53d9563",
   "metadata": {},
   "outputs": [],
   "source": []
  }
 ],
 "metadata": {
  "kernelspec": {
   "display_name": "Python 3 (ipykernel)",
   "language": "python",
   "name": "python3"
  },
  "language_info": {
   "codemirror_mode": {
    "name": "ipython",
    "version": 3
   },
   "file_extension": ".py",
   "mimetype": "text/x-python",
   "name": "python",
   "nbconvert_exporter": "python",
   "pygments_lexer": "ipython3",
   "version": "3.9.7"
  }
 },
 "nbformat": 4,
 "nbformat_minor": 5
}
