{
 "cells": [
  {
   "cell_type": "markdown",
   "id": "55b07e15",
   "metadata": {},
   "source": [
    "## Mean, Median, Mode using Python"
   ]
  },
  {
   "cell_type": "markdown",
   "id": "84b99561",
   "metadata": {},
   "source": [
    "### Mean\n",
    "<li> Mean is the average of the given numbers and is calculated by dividing he sum of given umbers by the total number of numbers\n",
    "<li> Mean = (Sum of all the observations/Total number observations)\n"
   ]
  },
  {
   "cell_type": "code",
   "execution_count": 5,
   "id": "ce83e507",
   "metadata": {},
   "outputs": [
    {
     "name": "stdout",
     "output_type": "stream",
     "text": [
      "The mean is  15.294117647058824\n"
     ]
    }
   ],
   "source": [
    "a = [7,3,15,66,3,8,16,22,28,15,15,14,15,23,5,3,2]\n",
    "mean = sum(a)/len(a)\n",
    "print(\"The mean is \", mean)"
   ]
  },
  {
   "cell_type": "markdown",
   "id": "ec083000",
   "metadata": {},
   "source": [
    "### Median\n",
    "Median is the middle number in a sorted, ascending or descending list of numbers\n",
    "1. When the total number of values is even \n",
    "    median = [(n/2) + {(n/2)+1}]/2\n",
    "2. When the total number is odd\n",
    "    median = {(n+1)/2}"
   ]
  },
  {
   "cell_type": "code",
   "execution_count": 8,
   "id": "8ff0b0b3",
   "metadata": {},
   "outputs": [
    {
     "name": "stdout",
     "output_type": "stream",
     "text": [
      "The median is  13.5\n"
     ]
    }
   ],
   "source": [
    "list_num = [22,12,21,15,12,33,6,12,19,8]\n",
    "list_num.sort()\n",
    "\n",
    "if len(list_num) % 2 == 0:\n",
    "    m1 = list_num[len(list1)//2]\n",
    "    m2 = list_num[len(list1)//2 - 1]\n",
    "    median = (m1 + m2)/2\n",
    "else:\n",
    "    median = list_num[len(list_num)//2]\n",
    "print(\"The median is \", median)"
   ]
  },
  {
   "cell_type": "markdown",
   "id": "3585b0ab",
   "metadata": {},
   "source": [
    "### Mode\n",
    "Mode is the value that appears most frequently in a data set."
   ]
  },
  {
   "cell_type": "code",
   "execution_count": 9,
   "id": "3aaaed83",
   "metadata": {},
   "outputs": [
    {
     "name": "stdout",
     "output_type": "stream",
     "text": [
      "20\n"
     ]
    }
   ],
   "source": [
    "list_num = [12, 16, 20, 20, 12, 30, 25, 23, 24, 20]\n",
    "frequency = {}\n",
    "for i in list_num:\n",
    "    frequency.setdefault(i, 0)\n",
    "    frequency[i]+=1\n",
    "\n",
    "frequent = max(frequency.values())\n",
    "for i, j in frequency.items():\n",
    "    if j == frequent:\n",
    "        mode = i\n",
    "print(mode)"
   ]
  },
  {
   "cell_type": "code",
   "execution_count": null,
   "id": "79fdbbac",
   "metadata": {},
   "outputs": [],
   "source": []
  }
 ],
 "metadata": {
  "kernelspec": {
   "display_name": "Python 3 (ipykernel)",
   "language": "python",
   "name": "python3"
  },
  "language_info": {
   "codemirror_mode": {
    "name": "ipython",
    "version": 3
   },
   "file_extension": ".py",
   "mimetype": "text/x-python",
   "name": "python",
   "nbconvert_exporter": "python",
   "pygments_lexer": "ipython3",
   "version": "3.9.7"
  }
 },
 "nbformat": 4,
 "nbformat_minor": 5
}
