{
 "cells": [
  {
   "cell_type": "markdown",
   "id": "848bc707",
   "metadata": {},
   "source": [
    "# Number Gussing Game"
   ]
  },
  {
   "cell_type": "markdown",
   "id": "a9c65175",
   "metadata": {},
   "source": [
    "##### I will write a program to select random number between 1 to 10. Also I will give the user a clue by conditional statement if the number that they guessed is too small or too high. Let's start.."
   ]
  },
  {
   "cell_type": "markdown",
   "id": "86ea7e96",
   "metadata": {},
   "source": [
    "# Import library"
   ]
  },
  {
   "cell_type": "code",
   "execution_count": 3,
   "id": "70198734",
   "metadata": {},
   "outputs": [],
   "source": [
    "import random"
   ]
  },
  {
   "cell_type": "code",
   "execution_count": 5,
   "id": "d58e90a9",
   "metadata": {},
   "outputs": [
    {
     "name": "stdout",
     "output_type": "stream",
     "text": [
      "Input number: 5\n",
      "Too high\n",
      "Input number again that lower: 3\n",
      "Yeayyy, correct!\n"
     ]
    }
   ],
   "source": [
    "number = random.randrange(1,10)\n",
    "user_number = int(input(\"Input number: \"))\n",
    "while number!= user_number:\n",
    "    if user_number < number:\n",
    "        print(\"Too low\")\n",
    "        user_number = int(input(\"Input number again that higher: \"))\n",
    "    elif user_number > number:\n",
    "        print (\"Too high\")\n",
    "        user_number = int(input(\"Input number again that lower: \"))\n",
    "    else:\n",
    "        break\n",
    "print(\"Yeayyy, correct!\")"
   ]
  }
 ],
 "metadata": {
  "kernelspec": {
   "display_name": "Python 3 (ipykernel)",
   "language": "python",
   "name": "python3"
  },
  "language_info": {
   "codemirror_mode": {
    "name": "ipython",
    "version": 3
   },
   "file_extension": ".py",
   "mimetype": "text/x-python",
   "name": "python",
   "nbconvert_exporter": "python",
   "pygments_lexer": "ipython3",
   "version": "3.9.7"
  }
 },
 "nbformat": 4,
 "nbformat_minor": 5
}
