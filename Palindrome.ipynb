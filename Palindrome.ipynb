{
 "cells": [
  {
   "cell_type": "markdown",
   "id": "d60c734b",
   "metadata": {},
   "source": [
    "### Palindrome Check"
   ]
  },
  {
   "cell_type": "code",
   "execution_count": 1,
   "id": "3e29bc4d",
   "metadata": {},
   "outputs": [],
   "source": [
    "def palindrome(sentence):\n",
    "    for i in (\",.'?/><}{{}}'\"):\n",
    "        sentence = sentence.replace(i, \"\")\n",
    "    palindrome = []\n",
    "    words = sentence.split(' ')\n",
    "    for word in words:\n",
    "        word = word.lower()\n",
    "        if word == word[::-1]:\n",
    "            palindrome.append(word)\n",
    "    return palindrome"
   ]
  },
  {
   "cell_type": "code",
   "execution_count": 6,
   "id": "5a9b2630",
   "metadata": {},
   "outputs": [
    {
     "name": "stdout",
     "output_type": "stream",
     "text": [
      "input sentence: i learn civic in my college with my friend Hannah\n",
      "['i', 'civic', 'hannah']\n"
     ]
    }
   ],
   "source": [
    "sentence = input(\"input sentence: \")\n",
    "print(palindrome(sentence))"
   ]
  },
  {
   "cell_type": "code",
   "execution_count": null,
   "id": "e7550fd6",
   "metadata": {},
   "outputs": [],
   "source": []
  }
 ],
 "metadata": {
  "kernelspec": {
   "display_name": "Python 3 (ipykernel)",
   "language": "python",
   "name": "python3"
  },
  "language_info": {
   "codemirror_mode": {
    "name": "ipython",
    "version": 3
   },
   "file_extension": ".py",
   "mimetype": "text/x-python",
   "name": "python",
   "nbconvert_exporter": "python",
   "pygments_lexer": "ipython3",
   "version": "3.9.7"
  }
 },
 "nbformat": 4,
 "nbformat_minor": 5
}
