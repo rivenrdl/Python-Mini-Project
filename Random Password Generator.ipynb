{
 "cells": [
  {
   "cell_type": "markdown",
   "id": "916cbb5e",
   "metadata": {},
   "source": [
    "## Random Password Generator"
   ]
  },
  {
   "cell_type": "code",
   "execution_count": 3,
   "id": "d2469f88",
   "metadata": {},
   "outputs": [],
   "source": [
    "import random"
   ]
  },
  {
   "cell_type": "code",
   "execution_count": 6,
   "id": "6231b37f",
   "metadata": {},
   "outputs": [
    {
     "name": "stdout",
     "output_type": "stream",
     "text": [
      "Enter the password length: 10\n",
      "hnyA1e5Sjd\n"
     ]
    }
   ],
   "source": [
    "pass_len = int(input(\"Enter the password length: \"))\n",
    "ps = \"12345asdvbfnm2ewjrhfnaADSFASDVBBRayuwi{kksjdf)}/*ajsdb\"\n",
    "p = \"\".join(random.sample(ps,pass_len))\n",
    "print (p)"
   ]
  },
  {
   "cell_type": "code",
   "execution_count": null,
   "id": "8d9b8c4c",
   "metadata": {},
   "outputs": [],
   "source": []
  }
 ],
 "metadata": {
  "kernelspec": {
   "display_name": "Python 3 (ipykernel)",
   "language": "python",
   "name": "python3"
  },
  "language_info": {
   "codemirror_mode": {
    "name": "ipython",
    "version": 3
   },
   "file_extension": ".py",
   "mimetype": "text/x-python",
   "name": "python",
   "nbconvert_exporter": "python",
   "pygments_lexer": "ipython3",
   "version": "3.9.7"
  }
 },
 "nbformat": 4,
 "nbformat_minor": 5
}
